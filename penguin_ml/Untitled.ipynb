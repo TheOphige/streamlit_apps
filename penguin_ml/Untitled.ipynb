{
 "cells": [
  {
   "cell_type": "code",
   "execution_count": 2,
   "id": "252fd689",
   "metadata": {},
   "outputs": [
    {
     "name": "stdout",
     "output_type": "stream",
     "text": [
      "Here are our output variables\n",
      "[0 0 0 0 0 0 0 0 0 0 0 0 0 0 0 0 0 0 0 0 0 0 0 0 0 0 0 0 0 0 0 0 0 0 0 0 0\n",
      " 0 0 0 0 0 0 0 0 0 0 0 0 0 0 0 0 0 0 0 0 0 0 0 0 0 0 0 0 0 0 0 0 0 0 0 0 0\n",
      " 0 0 0 0 0 0 0 0 0 0 0 0 0 0 0 0 0 0 0 0 0 0 0 0 0 0 0 0 0 0 0 0 0 0 0 0 0\n",
      " 0 0 0 0 0 0 0 0 0 0 0 0 0 0 0 0 0 0 0 0 0 0 0 0 0 0 0 0 0 0 0 0 0 0 0 1 1\n",
      " 1 1 1 1 1 1 1 1 1 1 1 1 1 1 1 1 1 1 1 1 1 1 1 1 1 1 1 1 1 1 1 1 1 1 1 1 1\n",
      " 1 1 1 1 1 1 1 1 1 1 1 1 1 1 1 1 1 1 1 1 1 1 1 1 1 1 1 1 1 1 1 1 1 1 1 1 1\n",
      " 1 1 1 1 1 1 1 1 1 1 1 1 1 1 1 1 1 1 1 1 1 1 1 1 1 1 1 1 1 1 1 1 1 1 1 1 1\n",
      " 1 1 1 1 1 1 2 2 2 2 2 2 2 2 2 2 2 2 2 2 2 2 2 2 2 2 2 2 2 2 2 2 2 2 2 2 2\n",
      " 2 2 2 2 2 2 2 2 2 2 2 2 2 2 2 2 2 2 2 2 2 2 2 2 2 2 2 2 2 2 2 2 2 2 2 2 2]\n",
      "Here are our feature variables\n",
      "     bill_length_mm  bill_depth_mm  flipper_length_mm  body_mass_g  \\\n",
      "0              39.1           18.7              181.0       3750.0   \n",
      "1              39.5           17.4              186.0       3800.0   \n",
      "2              40.3           18.0              195.0       3250.0   \n",
      "4              36.7           19.3              193.0       3450.0   \n",
      "5              39.3           20.6              190.0       3650.0   \n",
      "..              ...            ...                ...          ...   \n",
      "339            55.8           19.8              207.0       4000.0   \n",
      "340            43.5           18.1              202.0       3400.0   \n",
      "341            49.6           18.2              193.0       3775.0   \n",
      "342            50.8           19.0              210.0       4100.0   \n",
      "343            50.2           18.7              198.0       3775.0   \n",
      "\n",
      "     island_Biscoe  island_Dream  island_Torgersen  sex_female  sex_male  \n",
      "0                0             0                 1           0         1  \n",
      "1                0             0                 1           1         0  \n",
      "2                0             0                 1           1         0  \n",
      "4                0             0                 1           1         0  \n",
      "5                0             0                 1           0         1  \n",
      "..             ...           ...               ...         ...       ...  \n",
      "339              0             1                 0           0         1  \n",
      "340              0             1                 0           1         0  \n",
      "341              0             1                 0           0         1  \n",
      "342              0             1                 0           0         1  \n",
      "343              0             1                 0           1         0  \n",
      "\n",
      "[333 rows x 9 columns]\n"
     ]
    }
   ],
   "source": [
    "import pandas as pd\n",
    "\n",
    "# read data \n",
    "penguin_df = pd.read_csv('penguins.csv')\n",
    "penguin_df.dropna(inplace=True)\n",
    "output = penguin_df['species']\n",
    "features = penguin_df[['island', 'bill_length_mm', 'bill_depth_mm',\n",
    "'flipper_length_mm', 'body_mass_g', 'sex']]\n",
    "\n",
    "# one-hot encode categorical features\n",
    "features= pd.get_dummies(features)\n",
    "output, uniques = pd.factorize(output)\n",
    "\n",
    "# display data (outputs and features)\n",
    "print('Here are our output variables')\n",
    "print(output)\n",
    "\n",
    "print('Here are our feature variables')\n",
    "print(features)"
   ]
  },
  {
   "cell_type": "code",
   "execution_count": 1,
   "id": "fabdb67f",
   "metadata": {},
   "outputs": [
    {
     "name": "stdout",
     "output_type": "stream",
     "text": [
      "Our accuracy score for this model is 0.9737827715355806\n"
     ]
    }
   ],
   "source": [
    "# import necessary modules\n",
    "import pandas as pd\n",
    "from sklearn.metrics import accuracy_score\n",
    "from sklearn.ensemble import RandomForestClassifier\n",
    "from sklearn.model_selection import train_test_split\n",
    "import pickle\n",
    "\n",
    "# read data \n",
    "penguin_df = pd.read_csv('penguins.csv')\n",
    "penguin_df.dropna(inplace=True)\n",
    "output = penguin_df['species']\n",
    "features = penguin_df[['island', 'bill_length_mm', 'bill_depth_mm',\n",
    "'flipper_length_mm', 'body_mass_g', 'sex']]\n",
    "\n",
    "# one-hot encode categorical features\n",
    "features= pd.get_dummies(features)\n",
    "output, uniques = pd.factorize(output)\n",
    "\n",
    "# split data into training and test set\n",
    "x_train, x_test, y_train, y_test = train_test_split(features, \n",
    "output, test_size=0.8)\n",
    "\n",
    "# train random forest classifier model\n",
    "rfc = RandomForestClassifier(random_state=15)\n",
    "rfc.fit(x_train, y_train)\n",
    "y_pred= rfc.predict(x_test)\n",
    "score= accuracy_score(y_pred, y_test)\n",
    "print('Our accuracy score for this model is {}'.format(score))\n",
    "\n",
    "#save model and labels to pickle files\n",
    "rf_pickle= open('random_forest_penguin.pickle', 'wb')\n",
    "pickle.dump(rfc, rf_pickle)\n",
    "rf_pickle.close()\n",
    "\n",
    "output_pickle= open('output_penguin.pickle', 'wb')\n",
    "pickle.dump(uniques, output_pickle)\n",
    "output_pickle.close()"
   ]
  }
 ],
 "metadata": {
  "kernelspec": {
   "display_name": "Python 3",
   "language": "python",
   "name": "python3"
  },
  "language_info": {
   "codemirror_mode": {
    "name": "ipython",
    "version": 3
   },
   "file_extension": ".py",
   "mimetype": "text/x-python",
   "name": "python",
   "nbconvert_exporter": "python",
   "pygments_lexer": "ipython3",
   "version": "3.10.0"
  },
  "vscode": {
   "interpreter": {
    "hash": "df95319d8ce4e1d89f5365ae10992bc1f65da593082b1d264e8f529830ec2f02"
   }
  }
 },
 "nbformat": 4,
 "nbformat_minor": 5
}
